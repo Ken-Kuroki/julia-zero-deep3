{
 "cells": [
  {
   "cell_type": "markdown",
   "metadata": {},
   "source": [
    "# ステップ09"
   ]
  },
  {
   "cell_type": "code",
   "execution_count": 1,
   "metadata": {},
   "outputs": [],
   "source": [
    "abstract type AbstractFunction end"
   ]
  },
  {
   "cell_type": "code",
   "execution_count": 2,
   "metadata": {},
   "outputs": [],
   "source": [
    "mutable struct Variable\n",
    "    data::Union{Array{Float64,1},Nothing}\n",
    "#     data::Float64\n",
    "    grad::Union{Array{Float64,1},Nothing}\n",
    "    creator::Union{AbstractFunction,Nothing}  # added\n",
    "    Variable(data) = new(data, nothing, nothing);\n",
    "end"
   ]
  },
  {
   "cell_type": "code",
   "execution_count": 3,
   "metadata": {},
   "outputs": [
    {
     "data": {
      "text/plain": [
       "set_creator! (generic function with 1 method)"
      ]
     },
     "execution_count": 3,
     "metadata": {},
     "output_type": "execute_result"
    }
   ],
   "source": [
    "function set_creator!(this::Variable, func::AbstractFunction)\n",
    "    this.creator = func\n",
    "end"
   ]
  },
  {
   "cell_type": "code",
   "execution_count": 4,
   "metadata": {},
   "outputs": [
    {
     "data": {
      "text/plain": [
       "call! (generic function with 1 method)"
      ]
     },
     "execution_count": 4,
     "metadata": {},
     "output_type": "execute_result"
    }
   ],
   "source": [
    "function call!(this::AbstractFunction, input::Variable)\n",
    "    x = input.data\n",
    "    y = forward(this, x)\n",
    "    output = Variable(y)\n",
    "    set_creator!(output, this)  # added\n",
    "    this.input = input\n",
    "    this.output = output  # added\n",
    "    return output\n",
    "end"
   ]
  },
  {
   "cell_type": "markdown",
   "metadata": {},
   "source": [
    "Instance factory的な関数を作る"
   ]
  },
  {
   "cell_type": "code",
   "execution_count": 5,
   "metadata": {},
   "outputs": [
    {
     "data": {
      "text/plain": [
       "square (generic function with 1 method)"
      ]
     },
     "execution_count": 5,
     "metadata": {},
     "output_type": "execute_result"
    }
   ],
   "source": [
    "mutable struct Square <: AbstractFunction\n",
    "    input::Union{Variable,Nothing}\n",
    "    output::Union{Variable,Nothing}\n",
    "    Square() = new(nothing, nothing)\n",
    "end\n",
    "\n",
    "function forward(this::Square, x::Array{Float64,1})\n",
    "    y = x .^ 2\n",
    "    return y\n",
    "end\n",
    "\n",
    "function backward(this::Square, gy::Array{Float64,1})\n",
    "    x = this.input.data\n",
    "    gx = 2 .* x .* gy\n",
    "    return gx\n",
    "end\n",
    "\n",
    "function square(x::Variable)\n",
    "    f = Square()\n",
    "    return call!(f, x)\n",
    "end"
   ]
  },
  {
   "cell_type": "markdown",
   "metadata": {},
   "source": [
    "かっこわるいがexp()はBaseとかぶるのでexp_()とする"
   ]
  },
  {
   "cell_type": "code",
   "execution_count": 6,
   "metadata": {},
   "outputs": [
    {
     "data": {
      "text/plain": [
       "exp_ (generic function with 1 method)"
      ]
     },
     "execution_count": 6,
     "metadata": {},
     "output_type": "execute_result"
    }
   ],
   "source": [
    "mutable struct Exp <: AbstractFunction\n",
    "    input::Union{Variable,Nothing}\n",
    "    output::Union{Variable,Nothing}\n",
    "    Exp() = new(nothing, nothing)\n",
    "end\n",
    "\n",
    "function forward(this::Exp, x::Array{Float64,1})\n",
    "    y = exp.(x)\n",
    "    return y\n",
    "end\n",
    "\n",
    "function backward(this::Exp, gy::Array{Float64,1})\n",
    "    x = this.input.data\n",
    "    gx = exp.(x) .* gy\n",
    "    return gx\n",
    "end\n",
    "\n",
    "function exp_(x::Variable)\n",
    "    f = Exp()\n",
    "    return call!(f, x)\n",
    "end"
   ]
  },
  {
   "cell_type": "markdown",
   "metadata": {},
   "source": [
    "最初の勾配を省略できるようにする"
   ]
  },
  {
   "cell_type": "code",
   "execution_count": 12,
   "metadata": {},
   "outputs": [
    {
     "data": {
      "text/plain": [
       "backward! (generic function with 1 method)"
      ]
     },
     "execution_count": 12,
     "metadata": {},
     "output_type": "execute_result"
    }
   ],
   "source": [
    "function backward!(this::Variable)\n",
    "    if isnothing(this.grad)\n",
    "        this.grad = fill(oneunit(this.data[1]), size(this.data))  # np.ones_like()に相当する、はず（型が要素によってばらだらだと困るが）\n",
    "    end\n",
    "    funcs = Array{AbstractFunction, 1}()\n",
    "    push!(funcs, this.creator)\n",
    "    while length(funcs) > 0\n",
    "        f = pop!(funcs)\n",
    "        x = f.input\n",
    "        y = f.output\n",
    "        x.grad = backward(f, y.grad)\n",
    "        \n",
    "        if !isnothing(x.creator)\n",
    "            push!(funcs, x.creator)\n",
    "        end\n",
    "    end\n",
    "end"
   ]
  },
  {
   "cell_type": "code",
   "execution_count": 13,
   "metadata": {},
   "outputs": [
    {
     "data": {
      "text/plain": [
       "Variable([0.5], nothing, nothing)"
      ]
     },
     "execution_count": 13,
     "metadata": {},
     "output_type": "execute_result"
    }
   ],
   "source": [
    "x = Variable([0.5])"
   ]
  },
  {
   "cell_type": "code",
   "execution_count": 14,
   "metadata": {},
   "outputs": [
    {
     "data": {
      "text/plain": [
       "Variable([1.648721270700128], nothing, Square(Variable([1.2840254166877414], nothing, Exp(Variable([0.25], nothing, Square(Variable([0.5], nothing, nothing), Variable(#= circular reference @-2 =#))), Variable(#= circular reference @-2 =#))), Variable(#= circular reference @-2 =#)))"
      ]
     },
     "execution_count": 14,
     "metadata": {},
     "output_type": "execute_result"
    }
   ],
   "source": [
    "y = square(exp_(square(x)))"
   ]
  },
  {
   "cell_type": "code",
   "execution_count": 15,
   "metadata": {},
   "outputs": [],
   "source": [
    "backward!(y)"
   ]
  },
  {
   "cell_type": "code",
   "execution_count": 16,
   "metadata": {},
   "outputs": [
    {
     "data": {
      "text/plain": [
       "1-element Array{Float64,1}:\n",
       " 3.297442541400256"
      ]
     },
     "execution_count": 16,
     "metadata": {},
     "output_type": "execute_result"
    }
   ],
   "source": [
    "x.grad"
   ]
  },
  {
   "cell_type": "markdown",
   "metadata": {},
   "source": [
    "1. square(), exp_()で変数を初期化して返すようにした\n",
    "2. 最初の勾配を省略できるようにした（np.ones_likeがないので適当に代用）\n",
    "3. いままでVariableに直接floatを入れていたものを、arrayを挟んで入れるように改修（あわせてelement-wiseな演算をするように変更）\n",
    "\n",
    "いまのところ入力は1-dim arrayに決め打ちしてしまっているが、将来的には変更が必要になるはず……"
   ]
  },
  {
   "cell_type": "code",
   "execution_count": null,
   "metadata": {},
   "outputs": [],
   "source": []
  }
 ],
 "metadata": {
  "kernelspec": {
   "display_name": "Julia 1.4.2",
   "language": "julia",
   "name": "julia-1.4"
  },
  "language_info": {
   "file_extension": ".jl",
   "mimetype": "application/julia",
   "name": "julia",
   "version": "1.4.2"
  }
 },
 "nbformat": 4,
 "nbformat_minor": 2
}
