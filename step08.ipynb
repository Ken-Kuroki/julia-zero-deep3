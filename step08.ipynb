{
 "cells": [
  {
   "cell_type": "markdown",
   "metadata": {},
   "source": [
    "# ステップ08"
   ]
  },
  {
   "cell_type": "code",
   "execution_count": 1,
   "metadata": {},
   "outputs": [],
   "source": [
    "abstract type AbstractFunction end"
   ]
  },
  {
   "cell_type": "code",
   "execution_count": 2,
   "metadata": {},
   "outputs": [],
   "source": [
    "mutable struct Variable\n",
    "    data::Array{Float64}\n",
    "    grad::Union{Array{Float64},Nothing}\n",
    "    creator::Union{AbstractFunction,Nothing}  # added\n",
    "    Variable(data) = new(data, nothing, nothing);\n",
    "end"
   ]
  },
  {
   "cell_type": "code",
   "execution_count": 3,
   "metadata": {},
   "outputs": [
    {
     "data": {
      "text/plain": [
       "set_creator! (generic function with 1 method)"
      ]
     },
     "execution_count": 3,
     "metadata": {},
     "output_type": "execute_result"
    }
   ],
   "source": [
    "function set_creator!(this::Variable, func)\n",
    "    this.creator = func\n",
    "end"
   ]
  },
  {
   "cell_type": "code",
   "execution_count": 4,
   "metadata": {},
   "outputs": [
    {
     "data": {
      "text/plain": [
       "call! (generic function with 1 method)"
      ]
     },
     "execution_count": 4,
     "metadata": {},
     "output_type": "execute_result"
    }
   ],
   "source": [
    "function call!(this::AbstractFunction, input::Variable)\n",
    "    x = input.data\n",
    "    y = forward(this, x)\n",
    "    output = Variable(y)\n",
    "    set_creator!(output, this)  # added\n",
    "    this.input = input\n",
    "    this.output = output  # added\n",
    "    return output\n",
    "end"
   ]
  },
  {
   "cell_type": "code",
   "execution_count": 5,
   "metadata": {},
   "outputs": [
    {
     "data": {
      "text/plain": [
       "backward (generic function with 1 method)"
      ]
     },
     "execution_count": 5,
     "metadata": {},
     "output_type": "execute_result"
    }
   ],
   "source": [
    "mutable struct Square <: AbstractFunction\n",
    "    input::Union{Variable,Nothing}\n",
    "    output::Union{Variable,Nothing}\n",
    "    Square() = new(nothing, nothing)\n",
    "end\n",
    "\n",
    "function forward(this::Square, x::Array{Float64})\n",
    "    y = x .^ 2\n",
    "    return y\n",
    "end\n",
    "\n",
    "function backward(this::Square, gy::Array{Float64})\n",
    "    x = this.input.data\n",
    "    gx = 2 .* x .* gy\n",
    "    return gx\n",
    "end"
   ]
  },
  {
   "cell_type": "code",
   "execution_count": 6,
   "metadata": {},
   "outputs": [
    {
     "data": {
      "text/plain": [
       "backward (generic function with 2 methods)"
      ]
     },
     "execution_count": 6,
     "metadata": {},
     "output_type": "execute_result"
    }
   ],
   "source": [
    "mutable struct Exp <: AbstractFunction\n",
    "    input::Union{Variable,Nothing}\n",
    "    output::Union{Variable,Nothing}\n",
    "    Exp() = new(nothing, nothing)\n",
    "end\n",
    "\n",
    "function forward(this::Exp, x::Array{Float64})\n",
    "    y = exp.(x)\n",
    "    return y\n",
    "end\n",
    "\n",
    "function backward(this::Exp, gy::Array{Float64})\n",
    "    x = this.input.data\n",
    "    gx = exp.(x) .* gy\n",
    "    return gx\n",
    "end"
   ]
  },
  {
   "cell_type": "markdown",
   "metadata": {},
   "source": [
    "ここだけ変更、ループでbackward"
   ]
  },
  {
   "cell_type": "code",
   "execution_count": 7,
   "metadata": {},
   "outputs": [
    {
     "data": {
      "text/plain": [
       "backward! (generic function with 1 method)"
      ]
     },
     "execution_count": 7,
     "metadata": {},
     "output_type": "execute_result"
    }
   ],
   "source": [
    "function backward!(this::Variable)\n",
    "    funcs = Array{AbstractFunction, 1}()\n",
    "    push!(funcs, this.creator)\n",
    "    while length(funcs) > 0\n",
    "        f = pop!(funcs)\n",
    "        x = f.input\n",
    "        y = f.output\n",
    "        x.grad = backward(f, y.grad)\n",
    "        \n",
    "        if !isnothing(x.creator)\n",
    "            push!(funcs, x.creator)\n",
    "        end\n",
    "    end\n",
    "end"
   ]
  },
  {
   "cell_type": "code",
   "execution_count": 8,
   "metadata": {},
   "outputs": [],
   "source": [
    "A = Square();\n",
    "B = Exp();\n",
    "C = Square();"
   ]
  },
  {
   "cell_type": "code",
   "execution_count": 9,
   "metadata": {},
   "outputs": [
    {
     "data": {
      "text/plain": [
       "Variable([1.648721270700128], nothing, Square(Variable([1.2840254166877414], nothing, Exp(Variable([0.25], nothing, Square(Variable([0.5], nothing, nothing), Variable(#= circular reference @-2 =#))), Variable(#= circular reference @-2 =#))), Variable(#= circular reference @-2 =#)))"
      ]
     },
     "execution_count": 9,
     "metadata": {},
     "output_type": "execute_result"
    }
   ],
   "source": [
    "x = Variable([.5])\n",
    "a = call!(A, x)\n",
    "b = call!(B, a)\n",
    "y = call!(C, b)"
   ]
  },
  {
   "cell_type": "code",
   "execution_count": 10,
   "metadata": {},
   "outputs": [],
   "source": [
    "y.grad = [1.]\n",
    "backward!(y)"
   ]
  },
  {
   "cell_type": "code",
   "execution_count": 11,
   "metadata": {},
   "outputs": [
    {
     "name": "stdout",
     "output_type": "stream",
     "text": [
      "[3.297442541400256]"
     ]
    }
   ],
   "source": [
    "print(x.grad)"
   ]
  },
  {
   "cell_type": "code",
   "execution_count": null,
   "metadata": {},
   "outputs": [],
   "source": []
  },
  {
   "cell_type": "code",
   "execution_count": null,
   "metadata": {},
   "outputs": [],
   "source": []
  }
 ],
 "metadata": {
  "kernelspec": {
   "display_name": "Julia 1.4.2",
   "language": "julia",
   "name": "julia-1.4"
  },
  "language_info": {
   "file_extension": ".jl",
   "mimetype": "application/julia",
   "name": "julia",
   "version": "1.4.2"
  }
 },
 "nbformat": 4,
 "nbformat_minor": 2
}
